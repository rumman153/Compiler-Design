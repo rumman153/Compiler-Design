{
  "nbformat": 4,
  "nbformat_minor": 0,
  "metadata": {
    "colab": {
      "name": "Task3_First_Follow_18101018.ipynb",
      "provenance": []
    },
    "kernelspec": {
      "name": "python3",
      "display_name": "Python 3"
    },
    "language_info": {
      "name": "python"
    }
  },
  "cells": [
    {
      "cell_type": "code",
      "source": [
        "import re"
      ],
      "metadata": {
        "id": "Uw1DqSfgXJrG"
      },
      "execution_count": null,
      "outputs": []
    },
    {
      "cell_type": "code",
      "source": [
        "start_symbol = \"\"\n",
        "productions = {}\n",
        "first_table = {}\n",
        "follow_table = {}"
      ],
      "metadata": {
        "id": "46R0n5IVXnSu"
      },
      "execution_count": null,
      "outputs": []
    },
    {
      "cell_type": "code",
      "source": [
        "file = \"input.txt\"\n",
        "input_grammar = open(file,\"r\")"
      ],
      "metadata": {
        "id": "G8jz_z4oX2AM"
      },
      "execution_count": null,
      "outputs": []
    },
    {
      "cell_type": "code",
      "source": [
        "def generateProduction(input_grammar):\n",
        "  global start_symbol\n",
        "  for production_line in input_grammar:\n",
        "    lhs, rhs = re.split(\"->\", production_line)\n",
        "    rhs = re.split(\"\\||\\n\",rhs)\n",
        "    print(\"Production Generated\")\n",
        "    productions[lhs] = set(rhs) - {''}\n",
        "    if not start_symbol:\n",
        "      start_symbol = lhs"
      ],
      "metadata": {
        "id": "OTf7Hc1EX_99"
      },
      "execution_count": null,
      "outputs": []
    },
    {
      "cell_type": "code",
      "source": [
        "def isNonterminal(symbol):\n",
        "  if symbol.isupper(): #The isupper() method returns True if all the characters are in upper case, otherwise False.\n",
        "    return True\n",
        "  else:\n",
        "    return False"
      ],
      "metadata": {
        "id": "7sv7WhwxYuKM"
      },
      "execution_count": null,
      "outputs": []
    },
    {
      "cell_type": "code",
      "source": [
        "def firstFunc(symbol):\n",
        "  if symbol in first_table:\n",
        "    return first_table[symbol]\n",
        "  if isNonterminal(symbol):\n",
        "    first = set() #Sets are used to store multiple items in a single variable\n",
        "    for x in productions[symbol]:\n",
        "      if x == '#':\n",
        "        first = first.union('#')\n",
        "      else:\n",
        "        for i in x:\n",
        "          temp_first = firstFunc(i)\n",
        "          if i != x[-1]:\n",
        "            first = first.union(temp_first - {'#'})\n",
        "          else:\n",
        "            first = first.union(temp_first)\n",
        "          if '#' not in temp_first:\n",
        "            break\n",
        "    return first\n",
        "  else:\n",
        "    return set(symbol)"
      ],
      "metadata": {
        "id": "dNcrNjGLaNwx"
      },
      "execution_count": null,
      "outputs": []
    },
    {
      "cell_type": "code",
      "source": [
        "def followFunc(symbol):\n",
        "  if symbol not in follow_table:\n",
        "    follow_table[symbol] = set()\n",
        "  for element in productions.keys():\n",
        "    for rule in productions[element]:\n",
        "      pos = rule.find(symbol)\n",
        "      if pos != -1:\n",
        "        if pos == (len(rule) -1):\n",
        "          if element != symbol:\n",
        "            follow_table[symbol] = follow_table[symbol].union(followFunc(element))\n",
        "        else:\n",
        "            first_next = set()\n",
        "            for next in rule[pos + 1:]:\n",
        "              temp_first_next = firstFunc(next)\n",
        "              first_next = first_next.union(temp_first_next - {'#'})\n",
        "              if '#' not in temp_first_next:\n",
        "                break\n",
        "\n",
        "            if '#' in temp_first_next:\n",
        "              if element != symbol:\n",
        "                follow_table[symbol] = follow_table[symbol].union(followFunc(element))\n",
        "                follow_table[symbol] = follow_table[symbol].union(first_next) - {'#'}\n",
        "            else:\n",
        "              follow_table[symbol] = follow_table[symbol].union(first_next)\n",
        "\n",
        "  return follow_table[symbol]    \n"
      ],
      "metadata": {
        "id": "RJSK-jlCbaNJ"
      },
      "execution_count": null,
      "outputs": []
    },
    {
      "cell_type": "code",
      "source": [
        "def printTable():\n",
        "  print(\"First\")\n",
        "  for element in productions:\n",
        "    print(element+\":\"+str(first_table[element]))\n",
        "  print(\"\\n\")\n",
        "  print(\"Follow\")\n",
        "  for element in productions:\n",
        "    print(element + \":\" + str(follow_table[element]))\n",
        "  print(\"\\n\")"
      ],
      "metadata": {
        "id": "kQxi02L9Zqeu"
      },
      "execution_count": null,
      "outputs": []
    },
    {
      "cell_type": "code",
      "source": [
        "generateProduction(input_grammar)\n",
        "for element in productions:\n",
        "  first_table[element] = firstFunc(element)\n",
        "follow_table[start_symbol] = set('$')\n",
        "for element in productions:\n",
        "  follow_table[element] = followFunc(element)\n",
        "\n",
        "printTable()"
      ],
      "metadata": {
        "colab": {
          "base_uri": "https://localhost:8080/"
        },
        "id": "Kc0XN68OY7kv",
        "outputId": "a6190eec-077d-4aaf-9a54-9aefd1111977"
      },
      "execution_count": null,
      "outputs": [
        {
          "output_type": "stream",
          "name": "stdout",
          "text": [
            "Production Generated\n",
            "Production Generated\n",
            "Production Generated\n",
            "First\n",
            "S:{'#', 'a', 'c', 'b', 'd'}\n",
            "B:{'d', '#', 'c', 'b'}\n",
            "C:{'d', '#', 'c'}\n",
            "\n",
            "\n",
            "Follow\n",
            "S:{'e', '$'}\n",
            "B:{'f', 'e', 'c', 'd', '$'}\n",
            "C:{'e', 'c', '$', 'd', 'g', 'f'}\n",
            "\n",
            "\n"
          ]
        }
      ]
    }
  ]
}