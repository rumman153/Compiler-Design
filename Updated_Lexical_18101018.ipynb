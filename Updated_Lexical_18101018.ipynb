{
  "nbformat": 4,
  "nbformat_minor": 0,
  "metadata": {
    "colab": {
      "name": "Updated_Lexical_18101018.ipynb",
      "provenance": []
    },
    "kernelspec": {
      "name": "python3",
      "display_name": "Python 3"
    },
    "language_info": {
      "name": "python"
    }
  },
  "cells": [
    {
      "cell_type": "markdown",
      "source": [
        "Handled\n",
        "\n",
        "*   Variable/identifier \n",
        "*   Duplicate\n",
        "*   Comment\n",
        "*   Space Handle\n",
        "*   Punctuation\n",
        "*   Parenthesis\n",
        "*   Keyword\n",
        "*   Constant\n",
        "*   Operator\n",
        "*   Input\n",
        "\n",
        "Handled almost all the required scenario\n",
        "\n",
        "\n",
        "\n",
        "\n",
        "\n",
        "\n",
        "\n",
        "\n",
        "\n",
        "\n",
        "\n"
      ],
      "metadata": {
        "id": "69Qo91DUJeQA"
      }
    },
    {
      "cell_type": "code",
      "source": [
        "import re\n",
        "import nltk"
      ],
      "metadata": {
        "id": "xmL4AmJV6coH"
      },
      "execution_count": null,
      "outputs": []
    },
    {
      "cell_type": "markdown",
      "source": [
        "take input"
      ],
      "metadata": {
        "id": "NgqicoHKO_SA"
      }
    },
    {
      "cell_type": "code",
      "source": [
        "code = input(\"Enter Code/String: \")"
      ],
      "metadata": {
        "colab": {
          "base_uri": "https://localhost:8080/"
        },
        "id": "5Nq8hf376YeX",
        "outputId": "e7399972-3026-4514-da03-61b59631a942"
      },
      "execution_count": null,
      "outputs": [
        {
          "name": "stdout",
          "output_type": "stream",
          "text": [
            "Enter Code/String: int 1a=b*c+10; int a1=b*c+10; int _a1=b*c+10;//This is comment\n"
          ]
        }
      ]
    },
    {
      "cell_type": "markdown",
      "source": [
        "Remove comments"
      ],
      "metadata": {
        "id": "0zjX5PTdO9PP"
      }
    },
    {
      "cell_type": "code",
      "source": [
        "from codecs import Codec\n",
        "def remove_comments(code):\n",
        "    Multi_Comments_Removed = re.sub(\"/\\*[^*]*\\*+(?:[^/*][^*]*\\*+)*/\", \"\", code)\n",
        "    Single_Comments_Removed = re.sub(\"//.*\", \"\", Multi_Comments_Removed)\n",
        "    Comments_removed = Single_Comments_Removed\n",
        "    return Comments_removed\n",
        "code= remove_comments(code)\n",
        "code"
      ],
      "metadata": {
        "colab": {
          "base_uri": "https://localhost:8080/",
          "height": 35
        },
        "id": "1iGTj7GJGx2T",
        "outputId": "d8eb02b4-add0-496e-b270-a9ff8c123454"
      },
      "execution_count": null,
      "outputs": [
        {
          "output_type": "execute_result",
          "data": {
            "application/vnd.google.colaboratory.intrinsic+json": {
              "type": "string"
            },
            "text/plain": [
              "'int 1a=b*c+10; int a1=b*c+10; int _a1=b*c+10;'"
            ]
          },
          "metadata": {},
          "execution_count": 73
        }
      ]
    },
    {
      "cell_type": "code",
      "source": [
        "code_token = nltk.wordpunct_tokenize(code)\n",
        "code_token"
      ],
      "metadata": {
        "colab": {
          "base_uri": "https://localhost:8080/"
        },
        "id": "hYY-OZxKKaQD",
        "outputId": "785163e6-c339-400f-aa1e-5fe0844b7b33"
      },
      "execution_count": null,
      "outputs": [
        {
          "output_type": "execute_result",
          "data": {
            "text/plain": [
              "['int',\n",
              " '1a',\n",
              " '=',\n",
              " 'b',\n",
              " '*',\n",
              " 'c',\n",
              " '+',\n",
              " '10',\n",
              " ';',\n",
              " 'int',\n",
              " 'a1',\n",
              " '=',\n",
              " 'b',\n",
              " '*',\n",
              " 'c',\n",
              " '+',\n",
              " '10',\n",
              " ';',\n",
              " 'int',\n",
              " '_a1',\n",
              " '=',\n",
              " 'b',\n",
              " '*',\n",
              " 'c',\n",
              " '+',\n",
              " '10',\n",
              " ';']"
            ]
          },
          "metadata": {},
          "execution_count": 74
        }
      ]
    },
    {
      "cell_type": "markdown",
      "source": [
        "removing duplicate"
      ],
      "metadata": {
        "id": "oA32rLvHPDe-"
      }
    },
    {
      "cell_type": "code",
      "source": [
        "code_token = nltk.wordpunct_tokenize(code)\n",
        "\n",
        "from collections import OrderedDict\n",
        "code_token = list(OrderedDict.fromkeys(code_token))\n",
        "code_token"
      ],
      "metadata": {
        "colab": {
          "base_uri": "https://localhost:8080/"
        },
        "id": "KdRrjqfq6i3i",
        "outputId": "0f00275f-6327-4ef1-81ca-1e46037bf6ba"
      },
      "execution_count": null,
      "outputs": [
        {
          "output_type": "execute_result",
          "data": {
            "text/plain": [
              "['int', '1a', '=', 'b', '*', 'c', '+', '10', ';', 'a1', '_a1']"
            ]
          },
          "metadata": {},
          "execution_count": 75
        }
      ]
    },
    {
      "cell_type": "code",
      "source": [
        "token_dict = {\n",
        "    'Punctuation': [',','.',';','\\'','\\\"','@','!','#'],\n",
        "    'Parenthesis': ['[',']','{','}','(',')'],\n",
        "}"
      ],
      "metadata": {
        "id": "imfn6L7K7JRt"
      },
      "execution_count": null,
      "outputs": []
    },
    {
      "cell_type": "code",
      "source": [
        "display_dict = {}\n",
        "\n",
        "for value in code_token:\n",
        "\n",
        "    if value in token_dict['Punctuation']:\n",
        "        if 'Punctuation' in display_dict:\n",
        "            display_dict['Punctuation'].append(value)\n",
        "        else:\n",
        "            display_dict['Punctuation'] = [value]\n",
        "            \n",
        "    if value in token_dict['Parenthesis']:\n",
        "        if 'Parenthesis' in display_dict:\n",
        "            display_dict['Parenthesis'].append(value)\n",
        "        else:\n",
        "            display_dict['Parenthesis'] = [value]"
      ],
      "metadata": {
        "id": "PFjwa1DL7kAS"
      },
      "execution_count": null,
      "outputs": []
    },
    {
      "cell_type": "code",
      "source": [
        "keyword = \"auto|break|case|char|const|continue|default|do|double|else|enum|extern|float|for|goto|if|int|long|register|return|short|signed|sizeof|static|struct|switch|typedef|union|unsigned|void|volatile|while|string|class|struc|include\"\n",
        "operator = \"(\\++)|(-)|(=)|(\\*)|(%)|(--)|(<=)|(>=)\"\n",
        "constant = (\"^(\\d+)$\")\n",
        "identifier = '^[a-zA-Z_]+[a-zA-Z0-9_]*'"
      ],
      "metadata": {
        "id": "dgZ2-WmW6uTi"
      },
      "execution_count": null,
      "outputs": []
    },
    {
      "cell_type": "code",
      "source": [
        "kw = []\n",
        "const = []\n",
        "op = []\n",
        "idenf = []\n",
        "parenthesis = []\n",
        "comm = []\n",
        "k_count = 0\n",
        "o_count = 0\n",
        "n_count = 0\n",
        "i_count = 0\n",
        "p_count = 0\n",
        "c_count = 0\n",
        "\n",
        "\n",
        "for i in code_token:\n",
        "    if re.findall(keyword, i):\n",
        "        kw.append(i)\n",
        "        k_count = k_count + 1\n",
        "    elif re.findall(operator, i):\n",
        "        op.append(i)\n",
        "        o_count = o_count + 1\n",
        "    elif re.findall(constant, i):\n",
        "        const.append(i)\n",
        "        n_count = n_count + 1\n",
        "    elif re.findall(identifier, i):\n",
        "        idenf.append(i)\n",
        "        i_count = i_count + 1\n",
        "\n",
        "print(\"Keyword\", [k_count], \" = \", kw)\n",
        "print(\"Operator\", [o_count], \" = \", op)\n",
        "print(\"Constant\", [n_count], \" = \", const)\n",
        "print(\"Identifier\", [i_count], \" = \", idenf)\n",
        "for key, val in display_dict.items():\n",
        "    print('{} ({})'.format(key,len(val)), val)"
      ],
      "metadata": {
        "colab": {
          "base_uri": "https://localhost:8080/"
        },
        "id": "thlua6yY6xdP",
        "outputId": "e2bbdc18-dcfc-448c-ece4-a80732f5ad6a"
      },
      "execution_count": null,
      "outputs": [
        {
          "output_type": "stream",
          "name": "stdout",
          "text": [
            "Keyword [1]  =  ['int']\n",
            "Operator [3]  =  ['=', '*', '+']\n",
            "Constant [1]  =  ['10']\n",
            "Identifier [4]  =  ['b', 'c', 'a1', '_a1']\n",
            "Punctuation (1) [';']\n"
          ]
        }
      ]
    }
  ]
}